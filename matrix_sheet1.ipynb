{
  "nbformat": 4,
  "nbformat_minor": 0,
  "metadata": {
    "colab": {
      "provenance": [],
      "authorship_tag": "ABX9TyP/CWM+BWI7uXJd+/BBdAC0",
      "include_colab_link": true
    },
    "kernelspec": {
      "name": "python3",
      "display_name": "Python 3"
    },
    "language_info": {
      "name": "python"
    }
  },
  "cells": [
    {
      "cell_type": "markdown",
      "metadata": {
        "id": "view-in-github",
        "colab_type": "text"
      },
      "source": [
        "<a href=\"https://colab.research.google.com/github/KenaMuigai/matrices/blob/main/matrix_sheet1.ipynb\" target=\"_parent\"><img src=\"https://colab.research.google.com/assets/colab-badge.svg\" alt=\"Open In Colab\"/></a>"
      ]
    },
    {
      "cell_type": "code",
      "execution_count": 1,
      "metadata": {
        "id": "MEogYPBspg-M"
      },
      "outputs": [],
      "source": [
        "# Name 1: Agrawal Akruti\n",
        "# Enrollment number 1:\n",
        "# Name 2: Muigai Joy Makena\n",
        "# Enrollment number 2: 3830606\n",
        "\n",
        "import math\n",
        "import random\n",
        "\n",
        "\n",
        "# Exercise 1.1\n",
        "def euclidean_distance(point1, point2):\n",
        "    \"\"\"\n",
        "    Calculate the Euclidean distance between two points in R^n.\n",
        "\n",
        "    Args:\n",
        "        point1 (list of float): The first point (vector v ∈ R^n).\n",
        "        point2 (list of float): The second point (vector w ∈ R^n).\n",
        "\n",
        "    Returns:\n",
        "        float: sqrt((v - w)^T · (v - w))\n",
        "    \"\"\"\n",
        "    return math.sqrt(sum((a - b) ** 2 for a, b in zip(point1, point2)))\n",
        "\n",
        "\n",
        "# Exercise 1.2\n",
        "def assign_clusters(data, centroids):\n",
        "    \"\"\"\n",
        "    Partition the dataset D into disjoint subsets C₁, ..., C_k\n",
        "    such that each point belongs to the cluster of its nearest centroid.\n",
        "\n",
        "    Args:\n",
        "        data (list of list of float): The data points D ⊂ R^n.\n",
        "        centroids (list of list of float): Current centroids P = {p₁, ..., p_k}.\n",
        "\n",
        "    Returns:\n",
        "        list of list of list of float: Clusters C₁, ..., C_k where each C_i is a list of points.\n",
        "    \"\"\"\n",
        "    clusters = [[] for _ in centroids]\n",
        "    for point in data:\n",
        "        distances = [euclidean_distance(point, centroid) for centroid in centroids]\n",
        "        closest_index = distances.index(min(distances))\n",
        "        clusters[closest_index].append(point)\n",
        "    return clusters\n",
        "\n",
        "\n",
        "# Exercise 1.3\n",
        "def calculate_centroids(clusters):\n",
        "    \"\"\"\n",
        "    Compute new centroids z_i = (1 / |C_i|) * sum_{x ∈ C_i} x for each cluster C_i.\n",
        "\n",
        "    Args:\n",
        "        clusters (list of list of list of float): Clusters C₁, ..., C_k.\n",
        "\n",
        "    Returns:\n",
        "        list of list of float: Updated centroids.\n",
        "    \"\"\"\n",
        "    new_centroids = []\n",
        "    for cluster in clusters:\n",
        "        if cluster:\n",
        "            n = len(cluster[0])\n",
        "            centroid = [sum(point[i] for point in cluster) / len(cluster) for i in range(n)]\n",
        "            new_centroids.append(centroid)\n",
        "        else:\n",
        "            new_centroids.append(random.choice([pt for cl in clusters for pt in cl if cl]))\n",
        "    return new_centroids"
      ]
    }
  ]
}